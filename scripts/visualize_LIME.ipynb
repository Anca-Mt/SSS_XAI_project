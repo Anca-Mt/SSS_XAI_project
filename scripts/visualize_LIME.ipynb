{
 "cells": [
  {
   "cell_type": "code",
   "metadata": {
    "ExecuteTime": {
     "end_time": "2024-11-17T17:37:52.216474Z",
     "start_time": "2024-11-17T17:37:52.202103Z"
    }
   },
   "source": [
    "import pickle\n",
    "import os\n",
    "\n",
    "import pandas as pd\n",
    "import matplotlib.pyplot as plt\n",
    "from common import preprocess_df\n",
    "\n",
    "RESULTS_DIR = \"C:/Users/User/PYTHON PROJECTS/SSS_A2/xai-pipeline/RESULTS_CTU-13\"\n",
    "LIME_RESULTS = \"Scenario 1/LIME/lime_explanations.pk\"\n",
    "PREDICTIONS = \"Scenario 1/LIME/pred_vs_true.csv\"\n",
    "\n",
    "PREDICTIONS_HEADER = [\"Index\", \"y_pred\", \"y_true\", \"correct_predicted\"]"
   ],
   "outputs": [],
   "execution_count": 12
  },
  {
   "cell_type": "code",
   "metadata": {
    "ExecuteTime": {
     "end_time": "2024-11-17T17:28:47.861004Z",
     "start_time": "2024-11-17T17:28:46.074050Z"
    }
   },
   "source": [
    "res = pickle.load(open(os.path.join(RESULTS_DIR, LIME_RESULTS), \"rb\"))\n",
    "len(res)"
   ],
   "outputs": [
    {
     "data": {
      "text/plain": [
       "100"
      ]
     },
     "execution_count": 2,
     "metadata": {},
     "output_type": "execute_result"
    }
   ],
   "execution_count": 2
  },
  {
   "cell_type": "code",
   "metadata": {
    "ExecuteTime": {
     "end_time": "2024-11-17T17:28:51.453986Z",
     "start_time": "2024-11-17T17:28:51.406325Z"
    }
   },
   "source": [
    "pred_df = pd.read_csv(os.path.join(RESULTS_DIR, PREDICTIONS), index_col=False, header=None, names=PREDICTIONS_HEADER)\n",
    "pred_df = preprocess_df(pred_df)\n",
    "pred_df"
   ],
   "outputs": [
    {
     "data": {
      "text/plain": [
       "      y_pred  y_true  correct_predicted\n",
       "0          1       1               True\n",
       "1          1       1               True\n",
       "2          1       1               True\n",
       "3          0       0               True\n",
       "4          1       0              False\n",
       "...      ...     ...                ...\n",
       "1520       0       0               True\n",
       "1521       1       1               True\n",
       "1522       0       0               True\n",
       "1523       0       0               True\n",
       "1524       1       1               True\n",
       "\n",
       "[1525 rows x 3 columns]"
      ],
      "text/html": [
       "<div>\n",
       "<style scoped>\n",
       "    .dataframe tbody tr th:only-of-type {\n",
       "        vertical-align: middle;\n",
       "    }\n",
       "\n",
       "    .dataframe tbody tr th {\n",
       "        vertical-align: top;\n",
       "    }\n",
       "\n",
       "    .dataframe thead th {\n",
       "        text-align: right;\n",
       "    }\n",
       "</style>\n",
       "<table border=\"1\" class=\"dataframe\">\n",
       "  <thead>\n",
       "    <tr style=\"text-align: right;\">\n",
       "      <th></th>\n",
       "      <th>y_pred</th>\n",
       "      <th>y_true</th>\n",
       "      <th>correct_predicted</th>\n",
       "    </tr>\n",
       "  </thead>\n",
       "  <tbody>\n",
       "    <tr>\n",
       "      <th>0</th>\n",
       "      <td>1</td>\n",
       "      <td>1</td>\n",
       "      <td>True</td>\n",
       "    </tr>\n",
       "    <tr>\n",
       "      <th>1</th>\n",
       "      <td>1</td>\n",
       "      <td>1</td>\n",
       "      <td>True</td>\n",
       "    </tr>\n",
       "    <tr>\n",
       "      <th>2</th>\n",
       "      <td>1</td>\n",
       "      <td>1</td>\n",
       "      <td>True</td>\n",
       "    </tr>\n",
       "    <tr>\n",
       "      <th>3</th>\n",
       "      <td>0</td>\n",
       "      <td>0</td>\n",
       "      <td>True</td>\n",
       "    </tr>\n",
       "    <tr>\n",
       "      <th>4</th>\n",
       "      <td>1</td>\n",
       "      <td>0</td>\n",
       "      <td>False</td>\n",
       "    </tr>\n",
       "    <tr>\n",
       "      <th>...</th>\n",
       "      <td>...</td>\n",
       "      <td>...</td>\n",
       "      <td>...</td>\n",
       "    </tr>\n",
       "    <tr>\n",
       "      <th>1520</th>\n",
       "      <td>0</td>\n",
       "      <td>0</td>\n",
       "      <td>True</td>\n",
       "    </tr>\n",
       "    <tr>\n",
       "      <th>1521</th>\n",
       "      <td>1</td>\n",
       "      <td>1</td>\n",
       "      <td>True</td>\n",
       "    </tr>\n",
       "    <tr>\n",
       "      <th>1522</th>\n",
       "      <td>0</td>\n",
       "      <td>0</td>\n",
       "      <td>True</td>\n",
       "    </tr>\n",
       "    <tr>\n",
       "      <th>1523</th>\n",
       "      <td>0</td>\n",
       "      <td>0</td>\n",
       "      <td>True</td>\n",
       "    </tr>\n",
       "    <tr>\n",
       "      <th>1524</th>\n",
       "      <td>1</td>\n",
       "      <td>1</td>\n",
       "      <td>True</td>\n",
       "    </tr>\n",
       "  </tbody>\n",
       "</table>\n",
       "<p>1525 rows × 3 columns</p>\n",
       "</div>"
      ]
     },
     "execution_count": 3,
     "metadata": {},
     "output_type": "execute_result"
    }
   ],
   "execution_count": 3
  },
  {
   "cell_type": "code",
   "metadata": {
    "ExecuteTime": {
     "end_time": "2024-11-17T17:28:55.833236Z",
     "start_time": "2024-11-17T17:28:55.812112Z"
    }
   },
   "source": [
    "pred_df.correct_predicted.value_counts()"
   ],
   "outputs": [
    {
     "data": {
      "text/plain": [
       "True     1420\n",
       "False     105\n",
       "Name: correct_predicted, dtype: int64"
      ]
     },
     "execution_count": 4,
     "metadata": {},
     "output_type": "execute_result"
    }
   ],
   "execution_count": 4
  },
  {
   "cell_type": "code",
   "metadata": {
    "ExecuteTime": {
     "end_time": "2024-11-17T17:37:57.729626Z",
     "start_time": "2024-11-17T17:37:57.436529Z"
    }
   },
   "source": [
    "# res[0].show_in_notebook(show_table=True)\n",
    "\n",
    "fig = res[0].as_pyplot_figure()\n",
    "plt.show()"
   ],
   "outputs": [
    {
     "data": {
      "text/plain": [
       "<Figure size 640x480 with 1 Axes>"
      ],
      "image/png": "[encoded data removed]"
     },
     "metadata": {},
     "output_type": "display_data"
    }
   ],
   "execution_count": 13
  }
 ],
 "metadata": {
  "kernelspec": {
   "display_name": "Python 3",
   "language": "python",
   "name": "python3"
  },
  "language_info": {
   "codemirror_mode": {
    "name": "ipython",
    "version": 3
   },
   "file_extension": ".py",
   "mimetype": "text/x-python",
   "name": "python",
   "nbconvert_exporter": "python",
   "pygments_lexer": "ipython3",
   "version": "3.8.5"
  }
 },
 "nbformat": 4,
 "nbformat_minor": 4
}
